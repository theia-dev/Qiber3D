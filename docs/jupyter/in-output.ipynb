{
 "cells": [
  {
   "cell_type": "markdown",
   "metadata": {
    "collapsed": true
   },
   "source": [
    "# Input\n",
    "\n",
    "* [Back to all examples](./index.ipynb)\n",
    "* [Documentation: Input/Output](https://qiber3d.readthedocs.io/en/latest/load_export.html)\n",
    "\n",
    "A `Qiber3D.Network` can either be created from an image stack or an already reconstructed source like a `.mv3d` or `.swc` file. To load the network, pass its path to `Qiber3D.Network.load()`. Based on the file suffix, the corresponding methode of `Qiber3D.IO.load` is used."
   ]
  },
  {
   "cell_type": "code",
   "execution_count": null,
   "metadata": {},
   "outputs": [],
   "source": [
    "from IPython import display\n",
    "from Qiber3D import Network, config\n",
    "from Qiber3D.helper import Example"
   ]
  },
  {
   "cell_type": "markdown",
   "metadata": {},
   "source": [
    "As the memory on binder and many other free Jupyter servers is usually small, we will download the example image ([DOI:10.6084/m9.figshare.13655606](https://doi.org/10.6084/m9.figshare.13655606)) in the reduced variant. "
   ]
  },
  {
   "cell_type": "code",
   "execution_count": null,
   "metadata": {},
   "outputs": [],
   "source": [
    "net_ex = Example.tiff_c2_red()\n",
    "print(f'Example saved under {net_ex.absolute()}')"
   ]
  },
  {
   "cell_type": "markdown",
   "metadata": {},
   "source": [
    "The example `.tif` file has no dimensions embedded, so they must be set. We also have to change some settings as the image stack was already preprocessed before changing the channel depth from 16 to 8 bit. The last setting lowers the memory footprint to make the example executable within the 2GB memory limitation in Binder."
   ]
  },
  {
   "cell_type": "code",
   "execution_count": null,
   "metadata": {},
   "outputs": [],
   "source": [
    "config.extract.voxel_size = [2.4604, 2.4604, 2.5] # micron\n",
    "config.extract.binary.threshold = 45\n",
    "config.extract.smooth.apply = False\n",
    "config.extract.low_memory = True"
   ]
  },
  {
   "cell_type": "code",
   "execution_count": null,
   "metadata": {
    "scrolled": true
   },
   "outputs": [],
   "source": [
    "net = Network.load(net_ex)"
   ]
  },
  {
   "cell_type": "code",
   "execution_count": null,
   "metadata": {
    "scrolled": true
   },
   "outputs": [],
   "source": [
    "print(net)"
   ]
  },
  {
   "cell_type": "markdown",
   "metadata": {},
   "source": [
    "The reconstructed network can be examined in 3D. As this method can take a bit to load, it is commented out here."
   ]
  },
  {
   "cell_type": "code",
   "execution_count": null,
   "metadata": {},
   "outputs": [],
   "source": [
    "# net.render.show('fiber')"
   ]
  },
  {
   "cell_type": "markdown",
   "metadata": {},
   "source": [
    "A fast way to get a quick overview is to render the `Network` as an image and display it using the Jupyter tools."
   ]
  },
  {
   "cell_type": "code",
   "execution_count": null,
   "metadata": {
    "scrolled": false
   },
   "outputs": [],
   "source": [
    "image_top_path = net.render.overview(color_mode='fiber',color_map='hsv', image_resolution=1024, elevation=180, background='black', rgba=False, overwrite=True)\n",
    "display.Image(image_top_path)"
   ]
  },
  {
   "cell_type": "code",
   "execution_count": null,
   "metadata": {},
   "outputs": [],
   "source": [
    "image_side_path = net.render.overview(color_mode='fiber',color_map='hsv', image_resolution=1024, elevation=90, background='black', rgba=False, overwrite=True)\n",
    "display.Image(image_side_path)"
   ]
  },
  {
   "cell_type": "markdown",
   "metadata": {},
   "source": [
    "Creating an animation helps to get a better idea of the destribution in 3D space."
   ]
  },
  {
   "cell_type": "code",
   "execution_count": null,
   "metadata": {},
   "outputs": [],
   "source": [
    "video_path = net.render.animation(color_mode='segment', color_map='hsv', height=480,duration=4, background=(1.0, 1.0, 1.0), zoom=1.2, overwrite=True)"
   ]
  },
  {
   "cell_type": "code",
   "execution_count": null,
   "metadata": {},
   "outputs": [],
   "source": [
    "display.Video(video_path, html_attributes=\"loop autoplay\")"
   ]
  },
  {
   "cell_type": "markdown",
   "metadata": {},
   "source": [
    "# Output\n",
    "The created `Network` can be saved in different formats. The most detailed is the build in `.qiber` format. It keeps all information available for a later examination im a compressed form."
   ]
  },
  {
   "cell_type": "code",
   "execution_count": null,
   "metadata": {},
   "outputs": [],
   "source": [
    "out_path = net.save(overwrite=True)\n",
    "print(f'Exported {out_path.stat().st_size/1024/1024:.1f} MB to {out_path}')"
   ]
  },
  {
   "cell_type": "markdown",
   "metadata": {},
   "source": [
    "Saving the extraction steps will need significantly more space."
   ]
  },
  {
   "cell_type": "code",
   "execution_count": null,
   "metadata": {},
   "outputs": [],
   "source": [
    "out_path = net.save(save_steps=True, overwrite=True)\n",
    "print(f'Exported {out_path.stat().st_size/1024/1024:.1f} MB to {out_path}')"
   ]
  },
  {
   "cell_type": "markdown",
   "metadata": {},
   "source": [
    "The `export` function can be used to save the `Network` in different fomats."
   ]
  },
  {
   "cell_type": "code",
   "execution_count": null,
   "metadata": {
    "scrolled": true
   },
   "outputs": [],
   "source": [
    "json_path = net.export('example.json', overwrite=True)\n",
    "display.FileLink(json_path)"
   ]
  },
  {
   "cell_type": "code",
   "execution_count": null,
   "metadata": {},
   "outputs": [],
   "source": [
    "xlsx_path = net.export('example.xlsx', overwrite=True)\n",
    "display.FileLink(xlsx_path)"
   ]
  },
  {
   "cell_type": "code",
   "execution_count": null,
   "metadata": {},
   "outputs": [],
   "source": [
    "csv_path = net.export('example.csv', overwrite=True)\n",
    "display.FileLink(csv_path)"
   ]
  },
  {
   "cell_type": "code",
   "execution_count": null,
   "metadata": {},
   "outputs": [],
   "source": [
    "mv3d_path = net.export('example.csv', overwrite=True)\n",
    "display.FileLink(mv3d_path)"
   ]
  },
  {
   "cell_type": "code",
   "execution_count": null,
   "metadata": {},
   "outputs": [],
   "source": [
    "x3d_path = net.export('synthetic.x3d', overwrite=True)\n",
    "display.FileLink(x3d_path)"
   ]
  },
  {
   "cell_type": "code",
   "execution_count": null,
   "metadata": {},
   "outputs": [],
   "source": []
  }
 ],
 "metadata": {
  "kernelspec": {
   "display_name": "Python 3",
   "language": "python",
   "name": "python3"
  },
  "language_info": {
   "codemirror_mode": {
    "name": "ipython",
    "version": 3
   },
   "file_extension": ".py",
   "mimetype": "text/x-python",
   "name": "python",
   "nbconvert_exporter": "python",
   "pygments_lexer": "ipython3",
   "version": "3.8.10"
  }
 },
 "nbformat": 4,
 "nbformat_minor": 1
}
