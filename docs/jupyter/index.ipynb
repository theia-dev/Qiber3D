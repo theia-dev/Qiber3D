{
 "cells": [
  {
   "cell_type": "code",
   "execution_count": 2,
   "id": "b6f1d43e",
   "metadata": {},
   "outputs": [],
   "source": [
    "from Qiber3D import IO, helper\n",
    "helper.prepare_notebook()\n"
   ]
  },
  {
   "cell_type": "code",
   "execution_count": 3,
   "id": "8c8a7356",
   "metadata": {},
   "outputs": [
    {
     "name": "stdout",
     "output_type": "stream",
     "text": [
      "Input file: memory\n",
      "  Number of fibers: 4 (clustered 2)\n",
      "  Number of segments: 11\n",
      "  Number of branch points: 5\n",
      "  Total length: 1141.44\n",
      "  Total volume: 4688.67\n",
      "  Average radius: 0.936\n",
      "  Cylinder radius: 1.143\n",
      "  Bounding box volume: 806162\n"
     ]
    }
   ],
   "source": [
    "net = IO.load.synthetic_network()\n",
    "print(net)"
   ]
  },
  {
   "cell_type": "code",
   "execution_count": 4,
   "id": "4f667354",
   "metadata": {},
   "outputs": [
    {
     "data": {
      "application/vnd.jupyter.widget-view+json": {
       "model_id": "c63752c4486d454594453c19b8524c8f",
       "version_major": 2,
       "version_minor": 0
      },
      "text/plain": [
       "Plot(antialias=True, axes=['x', 'y', 'z'], axes_helper=1.0, background_color=16777215, camera=[2, -3, 0.2, 0.0…"
      ]
     },
     "metadata": {},
     "output_type": "display_data"
    }
   ],
   "source": [
    "net.render.show('segment')"
   ]
  },
  {
   "cell_type": "code",
   "execution_count": null,
   "id": "10143a37",
   "metadata": {},
   "outputs": [],
   "source": []
  }
 ],
 "metadata": {
  "kernelspec": {
   "display_name": "Python 3 (ipykernel)",
   "language": "python",
   "name": "python3"
  },
  "language_info": {
   "codemirror_mode": {
    "name": "ipython",
    "version": 3
   },
   "file_extension": ".py",
   "mimetype": "text/x-python",
   "name": "python",
   "nbconvert_exporter": "python",
   "pygments_lexer": "ipython3",
   "version": "3.8.5"
  }
 },
 "nbformat": 4,
 "nbformat_minor": 5
}