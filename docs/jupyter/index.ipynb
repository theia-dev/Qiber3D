{
 "cells": [
  {
   "cell_type": "markdown",
   "metadata": {
    "pycharm": {
     "name": "#%% md\n"
    }
   },
   "source": [
    "# Qiber3D example notebooks\n",
    "\n",
    "This page lists the [Qiber3D](https://github.com/theia-dev/Qiber3D) example notebooks that can be directyly run in this [Jupyter](http://jupyter.org) enviroment.\n",
    "\n",
    "* [01 Visualization](./visualization.ipynb)\n",
    "* [02 In- and Output](./in-output.ipynb)\n",
    "\n",
    "The full documentaion can be found under [https://qiber3d.readthedocs.io/](https://qiber3d.readthedocs.io/)."
   ]
  }
 ],
 "metadata": {
  "kernelspec": {
   "display_name": "Python 3",
   "language": "python",
   "name": "python3"
  },
  "language_info": {
   "codemirror_mode": {
    "name": "ipython",
    "version": 3
   },
   "file_extension": ".py",
   "mimetype": "text/x-python",
   "name": "python",
   "nbconvert_exporter": "python",
   "pygments_lexer": "ipython3",
   "version": "3.8.10"
  }
 },
 "nbformat": 4,
 "nbformat_minor": 5
}
