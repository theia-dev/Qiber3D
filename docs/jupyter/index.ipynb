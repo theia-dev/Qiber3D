{
 "cells": [
  {
   "cell_type": "markdown",
   "id": "b6f1d43e",
   "metadata": {
    "pycharm": {
     "name": "#%% md\n"
    }
   },
   "source": [
    "# Qiber3D example notebooks\n",
    "\n",
    "This page lists the [Qiber3D](https://github.com/theia-dev/Qiber3D) example notebooks that can be directyly run in this [Jupyter](http://jupyter.org) enviroment.\n",
    "\n",
    "* [01 Visualization](./visualization.ipynb)\n",
    "* [02 Input](./input.ipynb)\n",
    "* [03 Output](./output.ipynb)\n",
    "\n",
    "The full documentaion can be found under [https://qiber3d.readthedocs.io/](https://qiber3d.readthedocs.io/)."
   ]
  }
 ],
 "metadata": {
  "kernelspec": {
   "display_name": "Python 3 (ipykernel)",
   "language": "python",
   "name": "python3"
  },
  "language_info": {
   "codemirror_mode": {
    "name": "ipython",
    "version": 3
   },
   "file_extension": ".py",
   "mimetype": "text/x-python",
   "name": "python",
   "nbconvert_exporter": "python",
   "pygments_lexer": "ipython3",
   "version": "3.8.5"
  }
 },
 "nbformat": 4,
 "nbformat_minor": 5
}