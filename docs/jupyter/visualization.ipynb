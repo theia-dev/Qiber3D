{
 "cells": [
  {
   "cell_type": "markdown",
   "metadata": {},
   "source": [
    "# Visualization\n",
    "\n",
    "* [Back to all examples](./index.ipynb)\n",
    "* [Documentation section Visualization](https://qiber3d.readthedocs.io/en/latest/visualization.html)\n",
    "\n",
    "To explore some possibilities of the `Qiber3D.Render` module we can use the synthetic network as example."
   ]
  },
  {
   "cell_type": "code",
   "execution_count": null,
   "metadata": {
    "scrolled": false
   },
   "outputs": [],
   "source": [
    "from IPython import display\n",
    "from Qiber3D import IO, helper"
   ]
  },
  {
   "cell_type": "code",
   "execution_count": null,
   "metadata": {
    "scrolled": true
   },
   "outputs": [],
   "source": [
    "net = IO.load.synthetic_network()\n",
    "print(net)"
   ]
  },
  {
   "cell_type": "markdown",
   "metadata": {},
   "source": [
    "A loaded network can be visualized in different ways. Calling `render.show()` gives a quick view of the network."
   ]
  },
  {
   "cell_type": "code",
   "execution_count": null,
   "metadata": {},
   "outputs": [],
   "source": [
    "net.render.show()"
   ]
  },
  {
   "cell_type": "markdown",
   "metadata": {},
   "source": [
    "The `color_mode` parameter changes how the different segments (`Qiber3D.Segment`) are represented. Selecting `'fiber'` randomly colors fibers (`Qiber3D.Fiber`) that have at least one branch point. Fibers without a branch point are grey. With `'segment'` all segments are colored randomly. The full list of possible `color_mode` parameter is documented with [Qiber3D.Render.show()](https://qiber3d.readthedocs.io/en/latest/render.html#Qiber3D.Render.show)."
   ]
  },
  {
   "cell_type": "code",
   "execution_count": null,
   "metadata": {},
   "outputs": [],
   "source": [
    "net.render.show(color_mode='fiber')"
   ]
  },
  {
   "cell_type": "code",
   "execution_count": null,
   "metadata": {},
   "outputs": [],
   "source": [
    "net.render.show(color_mode='segment')"
   ]
  },
  {
   "cell_type": "markdown",
   "metadata": {},
   "source": [
    "While interactive representations are helpful when inspecting a small number of networks, it is more effective to create different views of the network as rendered images.\n",
    "For this purpose `Qiber3D.Render.overview` can be used.\n",
    "The syntax is very similar to `Qiber3D.Render.show`, but now a ``out_path`` and the ``image_resolution`` can be set.\n",
    "If no ``out_path`` is set the file name is automatically chosen.\n",
    "An existing file will not be overwritten. Set ``overwrite`` to ``True`` to change this behaviour."
   ]
  },
  {
   "cell_type": "code",
   "execution_count": null,
   "metadata": {},
   "outputs": [],
   "source": [
    "image_path = net.render.overview(color_mode='segment_length', color_map='magma', image_resolution=720, background='black', overwrite=True)\n",
    "print(image_path)\n",
    "display.Image(image_path)"
   ]
  },
  {
   "cell_type": "markdown",
   "metadata": {},
   "source": [
    "While we requested a black background, it is not visible in the resulting image.\n",
    "The reason for this behavior is, that for the background the alpha channel of the `.png` file comes into play.\n",
    "If a image without transperency is needed ``rgba`` can be set to ``False``."
   ]
  },
  {
   "cell_type": "code",
   "execution_count": null,
   "metadata": {
    "scrolled": false
   },
   "outputs": [],
   "source": [
    "image_path = net.render.overview(color_mode='segment_length', color_map='jet', image_resolution=720, background='black', rgba=False, overwrite=True)\n",
    "display.Image(image_path)"
   ]
  },
  {
   "cell_type": "markdown",
   "metadata": {},
   "source": [
    "Sometimes it can be helpful to display just the reconstructed center-lines of a network. To archive this the parameter `object_type` can be set to `'line'`."
   ]
  },
  {
   "cell_type": "code",
   "execution_count": null,
   "metadata": {},
   "outputs": [],
   "source": [
    "image_path = net.render.overview(color_mode='segment_length', color_map='jet', image_resolution=720, background='black',object_type='line', rgba=False, overwrite=True)\n",
    "display.Image(image_path)"
   ]
  },
  {
   "cell_type": "markdown",
   "metadata": {},
   "source": [
    "The last basic visualization option is to save an animation of the network as a `.mp4` movie. (`.gif` and `.webm` are also possible)"
   ]
  },
  {
   "cell_type": "code",
   "execution_count": null,
   "metadata": {
    "scrolled": false
   },
   "outputs": [],
   "source": [
    "video_path = net.render.animation(color_mode='segment', color_map='hsv', height=480,duration=4, background=(1.0, 1.0, 1.0), zoom=1.4, overwrite=True)"
   ]
  },
  {
   "cell_type": "code",
   "execution_count": null,
   "metadata": {},
   "outputs": [],
   "source": [
    "display.Video(video_path, html_attributes=\"loop autoplay\")"
   ]
  }
 ],
 "metadata": {
  "kernelspec": {
   "display_name": "Python 3",
   "language": "python",
   "name": "python3"
  },
  "language_info": {
   "codemirror_mode": {
    "name": "ipython",
    "version": 3
   },
   "file_extension": ".py",
   "mimetype": "text/x-python",
   "name": "python",
   "nbconvert_exporter": "python",
   "pygments_lexer": "ipython3",
   "version": "3.8.10"
  }
 },
 "nbformat": 4,
 "nbformat_minor": 5
}